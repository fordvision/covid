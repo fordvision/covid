{
 "cells": [
  {
   "cell_type": "markdown",
   "metadata": {
    "ein.tags": "worksheet-0",
    "slideshow": {
     "slide_type": "-"
    }
   },
   "source": [
    "# Age vs. Hospitalization\n",
    "\n",
    "I want to know how age effects the probability of hospitalization.\n",
    "\n",
    "This analysis is based on the case data in this google sheet:\n",
    "\n",
    "https://docs.google.com/spreadsheets/d/1itaohdPiAeniCXNlntNztZ_oRvjh0HsGuJXUJWET008/edit?usp=sharing\n",
    "\n",
    "I exported it to an xlsx. I don't know if the data is reliable or not."
   ]
  },
  {
   "cell_type": "code",
   "execution_count": 5,
   "metadata": {
    "autoscroll": false,
    "collapsed": false,
    "ein.hycell": false,
    "ein.tags": "worksheet-0",
    "slideshow": {
     "slide_type": "-"
    }
   },
   "outputs": [],
   "source": [
    "import pandas as pd\n",
    "import datetime\n",
    "import numpy as np"
   ]
  },
  {
   "cell_type": "code",
   "execution_count": 2,
   "metadata": {
    "autoscroll": false,
    "collapsed": false,
    "ein.hycell": false,
    "ein.tags": "worksheet-0",
    "slideshow": {
     "slide_type": "-"
    }
   },
   "outputs": [],
   "source": [
    "# this will by default read the first sheet\n",
    "df = pd.read_excel(\"COVID19_2020_open_line_list.xlsx\")"
   ]
  },
  {
   "cell_type": "code",
   "execution_count": 3,
   "metadata": {
    "autoscroll": false,
    "collapsed": false,
    "ein.hycell": false,
    "ein.tags": "worksheet-0",
    "slideshow": {
     "slide_type": "-"
    }
   },
   "outputs": [],
   "source": [
    "counts = df.groupby(\"country\").count()['ID']"
   ]
  },
  {
   "cell_type": "code",
   "execution_count": 4,
   "metadata": {
    "autoscroll": false,
    "collapsed": false,
    "ein.hycell": false,
    "ein.tags": "worksheet-0",
    "slideshow": {
     "slide_type": "-"
    }
   },
   "outputs": [
    {
     "data": {
      "text/plain": [
       "country\nAfghanistan          1\nIreland              1\nJordan               1\nLiechtenstein        1\nLithuania            1\n                 ...  \nItaly              588\nJapan              751\nSouth Korea        938\nIran               995\nChina            10594\nName: ID, Length: 70, dtype: int64"
      ]
     },
     "execution_count": 4,
     "metadata": {},
     "output_type": "execute_result"
    }
   ],
   "source": [
    "counts.sort_values()"
   ]
  },
  {
   "cell_type": "markdown",
   "metadata": {
    "ein.tags": "worksheet-0",
    "slideshow": {
     "slide_type": "-"
    }
   },
   "source": [
    "Most of the data is from China, as we'd expect.\n",
    "\n",
    "I'm going to run this analysis on all data, including China, since once we filter for\n",
    "records that include age, we won't have much left anyways."
   ]
  },
  {
   "cell_type": "code",
   "execution_count": 6,
   "metadata": {
    "autoscroll": false,
    "collapsed": false,
    "ein.hycell": false,
    "ein.tags": "worksheet-0",
    "slideshow": {
     "slide_type": "-"
    }
   },
   "outputs": [
    {
     "data": {
      "text/plain": [
       "array([30, 47, 49, 50, nan, 42, 59, 39, 38, 45, 33, 37, 32, 18, 56, 44,\n       65, 21, 41, 70, 43, 31, 24, 40, 66, 36, 10, 63, 78, 76, 48, 62, 46,\n       34, 72, 20, 54, 2, 29, 61, 51, 80, 69, 28, 55, 68, 57, 35, 27, 52,\n       22, 23, 88, 19, 60, 58, 53, 25, '36-45', 26, 64, '30-39', 11,\n       '50-59', 73, 74, 7, 82, 67, 15, 16, '60-69', '40-49', '80-89',\n       '27-40', 5, 3, 4, 71, '20-29', 77, 75, '16-80', 94, '38-68',\n       '23-72', 81, 0.58333, 17, 8, 9, 0.08333, 12, 0.5, 83, 84, '60-60',\n       1, 79, 87, '22-80', '19-77', 'Aug-68', '21-72', '40-89', 0.25,\n       '13-19', '70-79', '80-80', '0-6', '0-10',\n       datetime.datetime(2020, 10, 19, 0, 0), 96, 1.75, '18-65', '0-18',\n       '65-99', '90-99', '50-69', 92], dtype=object)"
      ]
     },
     "execution_count": 6,
     "metadata": {},
     "output_type": "execute_result"
    }
   ],
   "source": [
    "df['age'].unique()"
   ]
  },
  {
   "cell_type": "markdown",
   "metadata": {
    "ein.tags": "worksheet-0",
    "slideshow": {
     "slide_type": "-"
    }
   },
   "source": [
    "Tons of weird shit in there. I'm going to replace the wider ranges with `NaN` (they're\n",
    "uninformative) and replace the tighter ranges with their midpoint.\n",
    "\n",
    "Replacement rules can be seen below."
   ]
  },
  {
   "cell_type": "code",
   "execution_count": 7,
   "metadata": {
    "autoscroll": false,
    "collapsed": false,
    "ein.hycell": false,
    "ein.tags": "worksheet-0",
    "slideshow": {
     "slide_type": "-"
    }
   },
   "outputs": [],
   "source": [
    "ages_cleaned = df['age'].replace(\n",
    "    to_replace={\n",
    "        datetime.datetime(2020, 10, 19, 0, 0): np.nan,\n",
    "        0.5: np.nan,\n",
    "        'Aug-68': np.nan,\n",
    "        '60-60': 60,\n",
    "        '16-80': np.nan,\n",
    "        '36-45': 40,\n",
    "        '30-39': 35,\n",
    "        '50-59': 55,\n",
    "        '60-69': 65,\n",
    "        '40-49': 45,\n",
    "        '70-79': 75,\n",
    "        '80-89': 85,\n",
    "        '27-40': 34,\n",
    "        '20-29': 25,\n",
    "        '90-99': 95,\n",
    "        '38-68': np.nan,\n",
    "        '23-72': np.nan,\n",
    "        '22-80': np.nan,\n",
    "        '19-77': np.nan,\n",
    "        '21-72': np.nan,\n",
    "        '40-89': np.nan,\n",
    "        '13-19': 16,\n",
    "        '80-80': 80,\n",
    "        '0-6': 3,\n",
    "        '0-10': 5,\n",
    "        '18-65': np.nan,\n",
    "        '0-18': 9,\n",
    "        '65-99': 75,\n",
    "        '50-69': 60\n",
    "    }\n",
    ")"
   ]
  },
  {
   "cell_type": "markdown",
   "metadata": {
    "ein.tags": "worksheet-0",
    "slideshow": {
     "slide_type": "-"
    }
   },
   "source": [
    "We also have some ages that are `0.5`, and other shit like that. Get rid of those."
   ]
  },
  {
   "cell_type": "code",
   "execution_count": 8,
   "metadata": {
    "autoscroll": false,
    "collapsed": false,
    "ein.hycell": false,
    "ein.tags": "worksheet-0",
    "slideshow": {
     "slide_type": "-"
    }
   },
   "outputs": [],
   "source": [
    "df['age'] = [age if age > 2 else np.nan for age in ages_cleaned]"
   ]
  },
  {
   "cell_type": "code",
   "execution_count": 9,
   "metadata": {
    "autoscroll": false,
    "collapsed": false,
    "ein.hycell": false,
    "ein.tags": "worksheet-0",
    "slideshow": {
     "slide_type": "-"
    }
   },
   "outputs": [
    {
     "data": {
      "text/plain": [
       "array([30., 47., 49., 50., nan, 42., 59., 39., 38., 45., 33., 37., 32.,\n       18., 56., 44., 65., 21., 41., 70., 43., 31., 24., 40., 66., 36.,\n       10., 63., 78., 76., 48., 62., 46., 34., 72., 20., 54., 29., 61.,\n       51., 80., 69., 28., 55., 68., 57., 35., 27., 52., 22., 23., 88.,\n       19., 60., 58., 53., 25., 26., 64., 11., 73., 74.,  7., 82., 67.,\n       15., 16., 85.,  5.,  3.,  4., 71., 77., 75., 94., 81., 17.,  8.,\n        9., 12., 83., 84., 79., 87., 96., 95., 92.])"
      ]
     },
     "execution_count": 9,
     "metadata": {},
     "output_type": "execute_result"
    }
   ],
   "source": [
    "df['age'].unique()"
   ]
  },
  {
   "cell_type": "markdown",
   "metadata": {
    "ein.tags": "worksheet-0",
    "slideshow": {
     "slide_type": "-"
    }
   },
   "source": [
    "Looks reasonable."
   ]
  },
  {
   "cell_type": "markdown",
   "metadata": {
    "ein.tags": "worksheet-0",
    "slideshow": {
     "slide_type": "-"
    }
   },
   "source": [
    "**What's the overall probability of hospitalization?**"
   ]
  },
  {
   "cell_type": "code",
   "execution_count": 10,
   "metadata": {
    "autoscroll": false,
    "collapsed": false,
    "ein.hycell": false,
    "ein.tags": "worksheet-0",
    "slideshow": {
     "slide_type": "-"
    }
   },
   "outputs": [
    {
     "data": {
      "text/plain": [
       "0.05123469457555236"
      ]
     },
     "execution_count": 10,
     "metadata": {},
     "output_type": "execute_result"
    }
   ],
   "source": [
    "df['date_admission_hospital'].dropna().count() / df['ID'].count()"
   ]
  },
  {
   "cell_type": "markdown",
   "metadata": {
    "ein.tags": "worksheet-0",
    "slideshow": {
     "slide_type": "-"
    }
   },
   "source": [
    "In this data, it's only 5%, which seems low based on what we've been hearing."
   ]
  },
  {
   "cell_type": "code",
   "execution_count": null,
   "metadata": {
    "autoscroll": false,
    "collapsed": false,
    "ein.hycell": false,
    "ein.tags": "worksheet-0",
    "slideshow": {
     "slide_type": "-"
    }
   },
   "outputs": [],
   "source": [
    "hospitalized = df[~df['date_admission_hospital'].isnull()]\n",
    "non_hospitalized = df[df['date_admission_hospital'].isnull()]"
   ]
  },
  {
   "cell_type": "code",
   "execution_count": 11,
   "metadata": {
    "autoscroll": false,
    "collapsed": false,
    "ein.hycell": false,
    "ein.tags": "worksheet-0",
    "slideshow": {
     "slide_type": "-"
    }
   },
   "outputs": [],
   "source": [
    "df['hospitalized'] = ~df['date_admission_hospital'].isnull()"
   ]
  },
  {
   "cell_type": "markdown",
   "metadata": {
    "ein.tags": "worksheet-0",
    "slideshow": {
     "slide_type": "-"
    }
   },
   "source": [
    "We'll do a logistic regression, to see how probability of hospitalization changes with\n",
    "age. "
   ]
  },
  {
   "cell_type": "code",
   "execution_count": 12,
   "metadata": {
    "autoscroll": false,
    "collapsed": false,
    "ein.hycell": false,
    "ein.tags": "worksheet-0",
    "slideshow": {
     "slide_type": "-"
    }
   },
   "outputs": [],
   "source": [
    "from sklearn.linear_model import LogisticRegression"
   ]
  },
  {
   "cell_type": "code",
   "execution_count": 13,
   "metadata": {
    "autoscroll": false,
    "collapsed": false,
    "ein.hycell": false,
    "ein.tags": "worksheet-0",
    "slideshow": {
     "slide_type": "-"
    }
   },
   "outputs": [],
   "source": [
    "with_age = df[~df['age'].isnull()]"
   ]
  },
  {
   "cell_type": "code",
   "execution_count": 15,
   "metadata": {
    "autoscroll": false,
    "collapsed": false,
    "ein.hycell": false,
    "ein.tags": "worksheet-0",
    "slideshow": {
     "slide_type": "-"
    }
   },
   "outputs": [
    {
     "data": {
      "text/plain": [
       "0.5558139534883721"
      ]
     },
     "execution_count": 15,
     "metadata": {},
     "output_type": "execute_result"
    }
   ],
   "source": [
    "with_age[with_age['hospitalized']]['ID'].count() / with_age['ID'].count()"
   ]
  },
  {
   "cell_type": "markdown",
   "metadata": {
    "ein.tags": "worksheet-0",
    "slideshow": {
     "slide_type": "-"
    }
   },
   "source": [
    "So for those records that include an age, over half are hospitalized. This is much\n",
    "_higher_ than what we've generally been hearing."
   ]
  },
  {
   "cell_type": "code",
   "execution_count": 16,
   "metadata": {
    "autoscroll": false,
    "collapsed": false,
    "ein.hycell": false,
    "ein.tags": "worksheet-0",
    "slideshow": {
     "slide_type": "-"
    }
   },
   "outputs": [],
   "source": [
    "X = np.array(with_age['age']).reshape(-1, 1)\n",
    "y = np.array(with_age['hospitalized'])"
   ]
  },
  {
   "cell_type": "code",
   "execution_count": 17,
   "metadata": {
    "autoscroll": false,
    "collapsed": false,
    "ein.hycell": false,
    "ein.tags": "worksheet-0",
    "slideshow": {
     "slide_type": "-"
    }
   },
   "outputs": [
    {
     "name": "stderr",
     "output_type": "stream",
     "text": [
      "/Users/peterwills/.pyenv/versions/3.6.8/Python.framework/Versions/3.6/lib/python3.6/site-packages/sklearn/linear_model/logistic.py:432: FutureWarning: Default solver will be changed to 'lbfgs' in 0.22. Specify a solver to silence this warning.\n",
      "  FutureWarning)\n"
     ]
    }
   ],
   "source": [
    "clf = LogisticRegression(random_state=0).fit(X, y)"
   ]
  },
  {
   "cell_type": "code",
   "execution_count": 18,
   "metadata": {
    "autoscroll": false,
    "collapsed": false,
    "ein.hycell": false,
    "ein.tags": "worksheet-0",
    "slideshow": {
     "slide_type": "-"
    }
   },
   "outputs": [],
   "source": [
    "ages = np.arange(0, 100).reshape(-1, 1)"
   ]
  },
  {
   "cell_type": "code",
   "execution_count": 19,
   "metadata": {
    "autoscroll": false,
    "collapsed": false,
    "ein.hycell": false,
    "ein.tags": "worksheet-0",
    "slideshow": {
     "slide_type": "-"
    }
   },
   "outputs": [],
   "source": [
    "from matplotlib import pyplot as plt"
   ]
  },
  {
   "cell_type": "code",
   "execution_count": 21,
   "metadata": {
    "autoscroll": false,
    "collapsed": false,
    "ein.hycell": false,
    "ein.tags": "worksheet-0",
    "slideshow": {
     "slide_type": "-"
    }
   },
   "outputs": [
    {
     "data": {
      "text/plain": [
       "Text(0, 0.5, 'probability_hospitalized')"
      ]
     },
     "execution_count": 21,
     "metadata": {},
     "output_type": "execute_result"
    },
    {
     "data": {
      "image/png": "[encoded data removed]",
      "text/plain": [
       "<Figure size 864x576 with 1 Axes>"
      ]
     },
     "metadata": {},
     "output_type": "display_data"
    }
   ],
   "source": [
    "plt.figure(figsize=(12,8))\n",
    "\n",
    "plt.plot(ages, [p[1] for p in clf.predict_proba(ages)])\n",
    "plt.xlabel('age')\n",
    "plt.ylabel('probability_hospitalized')\n"
   ]
  },
  {
   "cell_type": "markdown",
   "metadata": {
    "ein.tags": "worksheet-0",
    "slideshow": {
     "slide_type": "-"
    }
   },
   "source": [
    "So with our trained regressor, age doesn't actually have that strong of an impact on\n",
    "probability of hospitalization.\n",
    "\n",
    "Getting uncertainties here would be useful."
   ]
  },
  {
   "cell_type": "markdown",
   "metadata": {
    "ein.tags": "worksheet-0",
    "slideshow": {
     "slide_type": "-"
    }
   },
   "source": [
    "# Conclusion\n",
    "\n",
    "I don't think the data is reliable enough to draw any meaningful conclusions from\n",
    "this. I suspect there is correlation between which records have an age recorded and\n",
    "which have a hospitalization date recorded, which would make any results we draw invalid."
   ]
  }
 ],
 "metadata": {
  "kernelspec": {
   "argv": [
    "python",
    "-m",
    "ipykernel_launcher",
    "-f",
    "{connection_file}"
   ],
   "display_name": "Python 3",
   "env": null,
   "interrupt_mode": "signal",
   "language": "python",
   "metadata": null,
   "name": "python3"
  },
  "name": "age-vs-hospitalization-probability.ipynb"
 },
 "nbformat": 4,
 "nbformat_minor": 2
}
